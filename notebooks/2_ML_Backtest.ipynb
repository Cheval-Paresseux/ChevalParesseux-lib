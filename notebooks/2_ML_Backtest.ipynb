{
 "cells": [
  {
   "cell_type": "code",
   "execution_count": 1,
   "metadata": {},
   "outputs": [],
   "source": [
    "import sys\n",
    "sys.path.append(\"..\")\n",
    "import Data as dt\n",
    "import ChevalParesseux_lib as lib\n",
    "\n",
    "import pandas as pd\n",
    "import numpy as np\n",
    "import matplotlib.pyplot as plt\n",
    "import seaborn as sns\n",
    "from tqdm import tqdm"
   ]
  },
  {
   "cell_type": "code",
   "execution_count": 2,
   "metadata": {},
   "outputs": [],
   "source": [
    "# I. Load data\n",
    "data = dt.load_dataList(ticker_list=['A', 'AAPL', 'GME', 'META'])\n",
    "\n",
    "# II. Making Samples\n",
    "training_data = {}\n",
    "testing_data = {}\n",
    "embargo_data = {}\n",
    "\n",
    "for ticker in data.keys():\n",
    "    full_df = data[ticker].copy()\n",
    "    full_df.index = pd.to_datetime(full_df['date'])\n",
    "    training_data[ticker] = full_df.loc['2005-01-01':'2019-01-01']\n",
    "    testing_data[ticker] = full_df.loc['2019-01-01': '2023-01-01']\n",
    "    embargo_data[ticker] = full_df.loc['2023-01-01':]\n",
    "\n",
    "full_training_data = pd.concat([training_data[ticker] for ticker in training_data.keys()], axis=0)"
   ]
  },
  {
   "cell_type": "code",
   "execution_count": 3,
   "metadata": {},
   "outputs": [],
   "source": [
    "non_feature_columns = ['date', 'code', 'exchange', 'open', 'high', 'low', 'close', 'volume', 'count_trx', 'label']\n",
    "price_name = 'close'\n",
    "date_name = 'date'\n",
    "bid_open_name = 'open'\n",
    "ask_open_name = 'open'\n",
    "n_jobs = 9\n",
    "\n",
    "strategy = lib.ML_strategy(n_jobs=n_jobs, date_name=date_name, bid_open_name=bid_open_name, ask_open_name=ask_open_name)\n",
    "strategy = strategy.set_params(non_feature_columns=non_feature_columns, price_name=price_name)"
   ]
  },
  {
   "cell_type": "code",
   "execution_count": 15,
   "metadata": {},
   "outputs": [],
   "source": [
    "# ======= I. Define the models for : Training Processing =======\n",
    "sampling_model = lib.DataSampler\n",
    "labeller_model = lib.tripleBarrier_labeller\n",
    "features_model = [\n",
    "    lib.average_feature, \n",
    "    lib.minimum_feature, \n",
    "    lib.volatility_feature, \n",
    "    lib.quantile_feature, \n",
    "    lib.Z_momentum_feature, \n",
    "    lib.nonlinear_tempReg_feature, \n",
    "    lib.hurst_exponent_feature\n",
    "]\n",
    "cleaner_model = lib.FeaturesCleaner\n",
    "\n",
    "# ------- I.1 Set the models -------\n",
    "strategy = strategy.set_models(\n",
    "    sampling_model=sampling_model,\n",
    "    labeller_model=labeller_model,\n",
    "    features_model=features_model,\n",
    "    cleaner_model=cleaner_model\n",
    ")"
   ]
  },
  {
   "cell_type": "code",
   "execution_count": 23,
   "metadata": {},
   "outputs": [],
   "source": [
    "# ======= I. Define the parameters for : Training Processing =======\n",
    "sampling_params = {\n",
    "    \"sampling_method\": \"daily_volBars\",\n",
    "    \"column_name\": \"volume\",\n",
    "    \"grouping_column\": \"code\",\n",
    "    \"new_cols_methods\": \"mean\",\n",
    "    \"vol_threshold\": 0.005,\n",
    "    \"aggregation_dict\": {\n",
    "        \"open\": \"first\",\n",
    "        \"high\": \"max\",\n",
    "        \"low\": \"min\",\n",
    "        \"close\": \"last\",\n",
    "        \"volume\": \"sum\",\n",
    "        \"date\": \"first\",\n",
    "        \"code\": \"first\",\n",
    "        \"exchange\": \"first\",\n",
    "        \"count_trx\": \"sum\",\n",
    "    }\n",
    "}\n",
    "labeller_params = {\n",
    "    \"upper_barrier\": [1],\n",
    "    \"lower_barrier\": [1.5],\n",
    "    \"vertical_barrier\": [20],\n",
    "    \"vol_window\": [20],\n",
    "    \"smoothing_method\": [\"ewma\"],\n",
    "    \"window_smooth\": [5],\n",
    "    \"lambda_smooth\": [0.2],\n",
    "}\n",
    "features_params = {\n",
    "    \"window\": [5, 10, 30, 60, 120],\n",
    "    \"power\": [3, 4, 5],\n",
    "    \"quantile\": [0.1, 0.9],\n",
    "    \"smoothing_method\": [None, \"ewma\"],\n",
    "    \"window_smooth\": [10],\n",
    "    \"lambda_smooth\": [0.2],\n",
    "}\n",
    "cleaner_params = {\n",
    "    'stationarity_threshold': 0.05,\n",
    "    'outliers_threshold': 5,\n",
    "}\n",
    "\n",
    "# ------- I.1 Set the parameters -------\n",
    "strategy = strategy.set_params(\n",
    "    sampling_params=sampling_params,\n",
    "    labeller_params=labeller_params,\n",
    "    features_params=features_params,\n",
    "    cleaner_params=cleaner_params\n",
    ")"
   ]
  },
  {
   "cell_type": "code",
   "execution_count": 24,
   "metadata": {},
   "outputs": [
    {
     "name": "stdout",
     "output_type": "stream",
     "text": [
      "Labelling data...\n"
     ]
    },
    {
     "name": "stderr",
     "output_type": "stream",
     "text": [
      "100%|██████████| 4/4 [00:07<00:00,  1.77s/it]\n"
     ]
    },
    {
     "name": "stdout",
     "output_type": "stream",
     "text": [
      "Extracting features...\n"
     ]
    },
    {
     "name": "stderr",
     "output_type": "stream",
     "text": [
      "100%|██████████| 4/4 [02:53<00:00, 43.37s/it]\n"
     ]
    }
   ],
   "source": [
    "stacked_data, processed_data, features_informations = strategy.get_training_data(training_data=full_training_data)"
   ]
  },
  {
   "cell_type": "code",
   "execution_count": null,
   "metadata": {},
   "outputs": [],
   "source": [
    "set_params = {\n",
    "    'labels_name': 'label',\n",
    "    'price_name': 'close',\n",
    "    'n_samples': 5000,\n",
    "    'replacement': True,\n",
    "    'vol_window': 20,\n",
    "    'upper_barrier': 1,\n",
    "    'vertical_barrier': 20,\n",
    "}"
   ]
  },
  {
   "cell_type": "code",
   "execution_count": null,
   "metadata": {},
   "outputs": [],
   "source": [
    "dTree_params = {\n",
    "    'criterion': 'gini',\n",
    "    'max_depth': 4,\n",
    "    'min_samples_split': 100,\n",
    "    'min_samples_leaf': 100,\n",
    "    'max_features': 50,\n",
    "}"
   ]
  }
 ],
 "metadata": {
  "kernelspec": {
   "display_name": "testEnv",
   "language": "python",
   "name": "python3"
  },
  "language_info": {
   "codemirror_mode": {
    "name": "ipython",
    "version": 3
   },
   "file_extension": ".py",
   "mimetype": "text/x-python",
   "name": "python",
   "nbconvert_exporter": "python",
   "pygments_lexer": "ipython3",
   "version": "3.11.11"
  }
 },
 "nbformat": 4,
 "nbformat_minor": 2
}
