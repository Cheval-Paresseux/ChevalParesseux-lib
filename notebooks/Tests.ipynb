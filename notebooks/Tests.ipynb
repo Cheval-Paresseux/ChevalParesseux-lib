{
 "cells": [
  {
   "cell_type": "code",
   "execution_count": 1,
   "metadata": {},
   "outputs": [],
   "source": [
    "import sys\n",
    "sys.path.append(\"..\")\n",
    "import Data as dt\n",
    "import Temp_lib as lib\n",
    "\n",
    "import pandas as pd\n",
    "import numpy as np\n",
    "import matplotlib.pyplot as plt\n",
    "import seaborn as sns\n",
    "from tqdm import tqdm"
   ]
  },
  {
   "cell_type": "code",
   "execution_count": 2,
   "metadata": {},
   "outputs": [],
   "source": [
    "wdo = dt.load_data(ticker=\"WDO\")\n",
    "wdo.drop(columns=[\"Unnamed: 0\"], inplace=True)"
   ]
  },
  {
   "cell_type": "code",
   "execution_count": 3,
   "metadata": {},
   "outputs": [],
   "source": [
    "# data = dt.load_dataList(ticker_list=['A'])\n",
    "# data = data['A'].loc['2012-01-01':'2015-01-01']\n",
    "# plt.figure(figsize=(17, 4))\n",
    "# plt.plot(data['close'])\n",
    "# plt.show()"
   ]
  },
  {
   "cell_type": "code",
   "execution_count": 5,
   "metadata": {},
   "outputs": [],
   "source": [
    "close_series = wdo['close']\n",
    "params = {\n",
    "    \"window\": [5, 10, 30, 60],\n",
    "    \"smoothing_method\": [\"ewma\"],\n",
    "    \"window_smooth\": [5],\n",
    "    \"lambda_smooth\": [0.2],\n",
    "}\n",
    "average_features = lib.average_feature(data=close_series, n_jobs=8, params=params).extract()"
   ]
  },
  {
   "cell_type": "code",
   "execution_count": 6,
   "metadata": {},
   "outputs": [
    {
     "data": {
      "application/vnd.microsoft.datawrangler.viewer.v0+json": {
       "columns": [
        {
         "name": "index",
         "rawType": "int64",
         "type": "integer"
        },
        {
         "name": "average_5_ewma_5_0.2",
         "rawType": "float64",
         "type": "float"
        },
        {
         "name": "average_10_ewma_5_0.2",
         "rawType": "float64",
         "type": "float"
        },
        {
         "name": "average_30_ewma_5_0.2",
         "rawType": "float64",
         "type": "float"
        },
        {
         "name": "average_60_ewma_5_0.2",
         "rawType": "float64",
         "type": "float"
        }
       ],
       "conversionMethod": "pd.DataFrame",
       "ref": "5378721e-0593-4d11-802c-ff9d7314e38f",
       "rows": [
        [
         "4",
         null,
         null,
         null,
         null
        ],
        [
         "5",
         null,
         null,
         null,
         null
        ],
        [
         "6",
         null,
         null,
         null,
         null
        ],
        [
         "7",
         null,
         null,
         null,
         null
        ],
        [
         "8",
         null,
         null,
         null,
         null
        ],
        [
         "9",
         "0.0014732546742439734",
         null,
         null,
         null
        ],
        [
         "10",
         "0.0016640602751900602",
         null,
         null,
         null
        ],
        [
         "11",
         "0.0019090775807040217",
         null,
         null,
         null
        ],
        [
         "12",
         "0.0017399517594258729",
         null,
         null,
         null
        ],
        [
         "13",
         "0.0015245597456559068",
         null,
         null,
         null
        ],
        [
         "14",
         "0.0009439139774403138",
         "0.002253028782433386",
         null,
         null
        ],
        [
         "15",
         "0.0005448429398089427",
         "0.0018692061113920744",
         null,
         null
        ],
        [
         "16",
         "-5.691255510953397e-05",
         "0.0011822096653395509",
         null,
         null
        ],
        [
         "17",
         "-0.0005062524372269062",
         "0.0004833331136568919",
         null,
         null
        ],
        [
         "18",
         "-0.0008215483410406454",
         "-0.0001580232825497685",
         null,
         null
        ],
        [
         "19",
         "-0.0007126190474165961",
         "-0.0004290358242663439",
         null,
         null
        ],
        [
         "20",
         "-0.0008087225877350113",
         "-0.0008423173329317191",
         null,
         null
        ],
        [
         "21",
         "-0.0005385478552462075",
         "-0.0008666161761818891",
         null,
         null
        ],
        [
         "22",
         "-0.0002859725256394441",
         "-0.0007789064957220981",
         null,
         null
        ],
        [
         "23",
         "-0.0001497749713039731",
         "-0.0006926607836558185",
         null,
         null
        ],
        [
         "24",
         "-0.00011657980801960122",
         "-0.0005991669988955062",
         null,
         null
        ],
        [
         "25",
         "-1.0287826688659685e-05",
         "-0.0004210344443009717",
         null,
         null
        ],
        [
         "26",
         "2.1192776343159636e-05",
         "-0.0002498739788872051",
         null,
         null
        ],
        [
         "27",
         "0.00020435556441356084",
         "4.880711163512963e-05",
         null,
         null
        ],
        [
         "28",
         "0.0003910372628275205",
         "0.0003300147941345255",
         null,
         null
        ],
        [
         "29",
         "0.0007058506759489713",
         "0.000728171319396953",
         null,
         null
        ],
        [
         "30",
         "0.0007962952736488838",
         "0.0009423435836040106",
         null,
         null
        ],
        [
         "31",
         "0.0009351570811750864",
         "0.0011934772897352897",
         null,
         null
        ],
        [
         "32",
         "0.000936961435371586",
         "0.0013366898850801778",
         null,
         null
        ],
        [
         "33",
         "0.0007325086066407582",
         "0.0012675107994875034",
         null,
         null
        ],
        [
         "34",
         "0.0005698734824692853",
         "0.0012041017580481927",
         "0.0017991335071143588",
         null
        ],
        [
         "35",
         "0.0006228585228496009",
         "0.0012836238824636137",
         "0.0019267806029683587",
         null
        ],
        [
         "36",
         "0.00034185009864784455",
         "0.001007304056354963",
         "0.0017182485766684685",
         null
        ],
        [
         "37",
         "0.0001351395567947833",
         "0.0007310864821645779",
         "0.0015067045867671602",
         null
        ],
        [
         "38",
         "-9.267613623964444e-06",
         "0.0004723833131088373",
         "0.0013047264832273253",
         null
        ],
        [
         "39",
         "-0.00019799815380672214",
         "0.00016461309549797853",
         "0.0010466238421922291",
         null
        ],
        [
         "40",
         "-0.0003592055796780569",
         "-0.00011406167112515408",
         "0.0007905699102150887",
         null
        ],
        [
         "41",
         "-0.00037954287246422247",
         "-0.00029821729914480954",
         "0.0006106064226281127",
         null
        ],
        [
         "42",
         "-0.0005280464514699768",
         "-0.000576213446379481",
         "0.00031689725035599636",
         null
        ],
        [
         "43",
         "-0.0006212997439241086",
         "-0.0007843095795380117",
         "6.136162722780725e-05",
         null
        ],
        [
         "44",
         "-0.0006117026003219506",
         "-0.0008905843929509771",
         "-0.00010604714464867993",
         null
        ],
        [
         "45",
         "-0.0006148255770253019",
         "-0.0009865416261575222",
         "-0.0002877266190802752",
         null
        ],
        [
         "46",
         "-0.000775009169891705",
         "-0.0011974162168572056",
         "-0.0006248225431900734",
         null
        ],
        [
         "47",
         "-0.0004855529058978014",
         "-0.0009762695771153851",
         "-0.000558365573874009",
         null
        ],
        [
         "48",
         "-0.0002465693586033435",
         "-0.0007553852264585714",
         "-0.0004950715540507078",
         null
        ],
        [
         "49",
         "3.3139411170779454e-05",
         "-0.00044633327727860994",
         "-0.00034586620542975677",
         null
        ],
        [
         "50",
         "0.00017983164982227073",
         "-0.00023396978172518512",
         "-0.00027204804577918296",
         null
        ],
        [
         "51",
         "0.00027062525524024217",
         "-4.6561652490395566e-05",
         "-0.00021113178145537592",
         null
        ],
        [
         "52",
         "0.0002756034242785699",
         "0.0001236874153540679",
         "-0.00015038791906996085",
         null
        ],
        [
         "53",
         "0.0002539339805118779",
         "0.000241758338813014",
         "-0.00010916346276679256",
         null
        ]
       ],
       "shape": {
        "columns": 4,
        "rows": 131694
       }
      },
      "text/html": [
       "<div>\n",
       "<style scoped>\n",
       "    .dataframe tbody tr th:only-of-type {\n",
       "        vertical-align: middle;\n",
       "    }\n",
       "\n",
       "    .dataframe tbody tr th {\n",
       "        vertical-align: top;\n",
       "    }\n",
       "\n",
       "    .dataframe thead th {\n",
       "        text-align: right;\n",
       "    }\n",
       "</style>\n",
       "<table border=\"1\" class=\"dataframe\">\n",
       "  <thead>\n",
       "    <tr style=\"text-align: right;\">\n",
       "      <th></th>\n",
       "      <th>average_5_ewma_5_0.2</th>\n",
       "      <th>average_10_ewma_5_0.2</th>\n",
       "      <th>average_30_ewma_5_0.2</th>\n",
       "      <th>average_60_ewma_5_0.2</th>\n",
       "    </tr>\n",
       "  </thead>\n",
       "  <tbody>\n",
       "    <tr>\n",
       "      <th>4</th>\n",
       "      <td>NaN</td>\n",
       "      <td>NaN</td>\n",
       "      <td>NaN</td>\n",
       "      <td>NaN</td>\n",
       "    </tr>\n",
       "    <tr>\n",
       "      <th>5</th>\n",
       "      <td>NaN</td>\n",
       "      <td>NaN</td>\n",
       "      <td>NaN</td>\n",
       "      <td>NaN</td>\n",
       "    </tr>\n",
       "    <tr>\n",
       "      <th>6</th>\n",
       "      <td>NaN</td>\n",
       "      <td>NaN</td>\n",
       "      <td>NaN</td>\n",
       "      <td>NaN</td>\n",
       "    </tr>\n",
       "    <tr>\n",
       "      <th>7</th>\n",
       "      <td>NaN</td>\n",
       "      <td>NaN</td>\n",
       "      <td>NaN</td>\n",
       "      <td>NaN</td>\n",
       "    </tr>\n",
       "    <tr>\n",
       "      <th>8</th>\n",
       "      <td>NaN</td>\n",
       "      <td>NaN</td>\n",
       "      <td>NaN</td>\n",
       "      <td>NaN</td>\n",
       "    </tr>\n",
       "    <tr>\n",
       "      <th>...</th>\n",
       "      <td>...</td>\n",
       "      <td>...</td>\n",
       "      <td>...</td>\n",
       "      <td>...</td>\n",
       "    </tr>\n",
       "    <tr>\n",
       "      <th>131693</th>\n",
       "      <td>0.000018</td>\n",
       "      <td>0.000014</td>\n",
       "      <td>3.841721e-05</td>\n",
       "      <td>0.000058</td>\n",
       "    </tr>\n",
       "    <tr>\n",
       "      <th>131694</th>\n",
       "      <td>0.000012</td>\n",
       "      <td>0.000013</td>\n",
       "      <td>3.841721e-05</td>\n",
       "      <td>0.000057</td>\n",
       "    </tr>\n",
       "    <tr>\n",
       "      <th>131695</th>\n",
       "      <td>-0.000031</td>\n",
       "      <td>-0.000025</td>\n",
       "      <td>-9.467337e-07</td>\n",
       "      <td>0.000018</td>\n",
       "    </tr>\n",
       "    <tr>\n",
       "      <th>131696</th>\n",
       "      <td>-0.000020</td>\n",
       "      <td>-0.000014</td>\n",
       "      <td>6.925815e-06</td>\n",
       "      <td>0.000024</td>\n",
       "    </tr>\n",
       "    <tr>\n",
       "      <th>131697</th>\n",
       "      <td>0.000066</td>\n",
       "      <td>0.000071</td>\n",
       "      <td>8.814737e-05</td>\n",
       "      <td>0.000105</td>\n",
       "    </tr>\n",
       "  </tbody>\n",
       "</table>\n",
       "<p>131694 rows × 4 columns</p>\n",
       "</div>"
      ],
      "text/plain": [
       "        average_5_ewma_5_0.2  average_10_ewma_5_0.2  average_30_ewma_5_0.2  \\\n",
       "4                        NaN                    NaN                    NaN   \n",
       "5                        NaN                    NaN                    NaN   \n",
       "6                        NaN                    NaN                    NaN   \n",
       "7                        NaN                    NaN                    NaN   \n",
       "8                        NaN                    NaN                    NaN   \n",
       "...                      ...                    ...                    ...   \n",
       "131693              0.000018               0.000014           3.841721e-05   \n",
       "131694              0.000012               0.000013           3.841721e-05   \n",
       "131695             -0.000031              -0.000025          -9.467337e-07   \n",
       "131696             -0.000020              -0.000014           6.925815e-06   \n",
       "131697              0.000066               0.000071           8.814737e-05   \n",
       "\n",
       "        average_60_ewma_5_0.2  \n",
       "4                         NaN  \n",
       "5                         NaN  \n",
       "6                         NaN  \n",
       "7                         NaN  \n",
       "8                         NaN  \n",
       "...                       ...  \n",
       "131693               0.000058  \n",
       "131694               0.000057  \n",
       "131695               0.000018  \n",
       "131696               0.000024  \n",
       "131697               0.000105  \n",
       "\n",
       "[131694 rows x 4 columns]"
      ]
     },
     "execution_count": 6,
     "metadata": {},
     "output_type": "execute_result"
    }
   ],
   "source": [
    "average_features"
   ]
  },
  {
   "cell_type": "code",
   "execution_count": null,
   "metadata": {},
   "outputs": [],
   "source": [
    "tripleBarrier_params = {\n",
    "    \"upper_barrier\": [0.8],\n",
    "    \"lower_barrier\": [1.5],\n",
    "    \"vertical_barrier\": [20],\n",
    "    \"vol_window\": [20],\n",
    "    \"smoothing_method\": [None],\n",
    "    \"window_smooth\": [5],\n",
    "    \"lambda_smooth\": [0.2],\n",
    "}\n",
    "\n",
    "close_series = wdo['close']\n",
    "\n",
    "tripleBarrier_labeller = lib.tripleBarrier_labeller(data=close_series, params=tripleBarrier_params, n_jobs=1)\n",
    "labels_df = tripleBarrier_labeller.extract()\n",
    "wdo.loc[:, 'labels'] = labels_df['set_0']\n",
    "# lib.plot_price_with_labels(price_series=close_series, label_series=wdo['labels'])"
   ]
  },
  {
   "cell_type": "code",
   "execution_count": null,
   "metadata": {},
   "outputs": [],
   "source": [
    "def mpNumCoEvents(closeIdx,t1,molecule):\n",
    "    \"\"\"\n",
    "    Compute the number of concurrent events per bar.\n",
    "    +molecule[0] is the date of the first event on which the weight will be computed\n",
    "    +molecule[-1] is the date of the last event on which the weight will be computed\n",
    "    Any event that starts before t1[molecule].max() impacts the count.\n",
    "    \"\"\"\n",
    "    #1) find events that span the period [molecule[0],molecule[-1]]\n",
    "    t1=t1.fillna(closeIdx[-1]) # unclosed events still must impact other weights\n",
    "    t1=t1[t1>=molecule[0]] # events that end at or after molecule[0]\n",
    "    t1=t1.loc[:t1[molecule].max()] # events that start at or before t1[molecule].max()\n",
    "    #2) count events spanning a bar\n",
    "    iloc=closeIdx.searchsorted(np.array([t1.index[0],t1.max()]))\n",
    "    count=pd.Series(0,index=closeIdx[iloc[0]:iloc[1]+1])\n",
    "    \n",
    "    for tIn,tOut in t1:\n",
    "        count.loc[tIn:tOut]+=1\n",
    "    \n",
    "    return count.loc[molecule[0]:t1[molecule]].max()"
   ]
  },
  {
   "cell_type": "code",
   "execution_count": null,
   "metadata": {},
   "outputs": [],
   "source": [
    "labels_series = data['labels'].copy()\n",
    "close_series = data['close'].copy()\n",
    "window = 20\n",
    "upper_barrier = 0.8\n",
    "vertical_barrier = 20\n",
    "#*________________________\n",
    "\n",
    "# Drop NaN values from labels_series\n",
    "labels = labels_series.dropna().copy()\n",
    "close = close_series.loc[labels.index].copy()\n",
    "vol = close_series.pct_change().rolling(window).std() * np.sqrt(window)\n",
    "vol.rename('vol', inplace=True)\n",
    "\n",
    "auxiliary = pd.concat([labels, close, vol], axis=1).dropna().reset_index()\n",
    "\n",
    "for idx, row in auxiliary.iterrows():\n",
    "    \n",
    "    if row['labels'] == 1:\n",
    "        current_close = row['close']\n",
    "        barrier = row['vol'] * upper_barrier\n",
    "        target_close = current_close * (1 + barrier)\n",
    "        \n",
    "        barrier_hit_idx = auxiliary[(auxiliary['close'] >= target_close) & (auxiliary.index > idx)].index.min()\n",
    "\n",
    "    elif row['labels'] == -1:\n",
    "        current_close = row['close']\n",
    "        barrier = row['vol'] * upper_barrier\n",
    "        target_close = current_close * (1 - barrier)\n",
    "        \n",
    "        barrier_hit_idx = auxiliary[(auxiliary['close'] <= target_close) & (auxiliary.index > idx)].index.min()\n",
    "    else:\n",
    "        barrier_hit_idx = vertical_barrier + idx\n",
    "\n",
    "    auxiliary.loc[idx, 'start_event'] = idx\n",
    "    auxiliary.loc[idx, 'end_event'] = barrier_hit_idx\n",
    "    \n",
    "auxiliary = auxiliary.drop(columns=['vol'])\n",
    "\n",
    "auxiliary[\"concurrent_events\"] = 0  # Initialize column\n",
    "\n",
    "def count_concurrent_events(row, df):\n",
    "    label = row['labels']\n",
    "    start_idx = row['start_event']\n",
    "    end_idx = row['end_event']\n",
    "    \n",
    "    mask_prev = (df['labels'] == label) & (df['start_event'] < start_idx) & (df['end_event'] > start_idx)\n",
    "    mask_next = (df['labels'] == label) & (df['start_event'] < end_idx) & (df['end_event'] > end_idx)\n",
    "    \n",
    "    nb_concurrents_events_prev = df[mask_prev].shape[0]\n",
    "    \n",
    "    return nb_concurrents_events_prev if nb_concurrents_events_prev > 0 else 0\n",
    "\n",
    "auxiliary['concurrent_events'] = auxiliary.apply(lambda row: count_concurrent_events(row, auxiliary), axis=1)"
   ]
  },
  {
   "cell_type": "code",
   "execution_count": null,
   "metadata": {},
   "outputs": [],
   "source": [
    "auxiliary"
   ]
  },
  {
   "cell_type": "code",
   "execution_count": null,
   "metadata": {},
   "outputs": [],
   "source": [
    "def label_uniqueness(labels_series: pd.Series, close_series: pd.Series):\n",
    "\n",
    "\n",
    "    "
   ]
  },
  {
   "cell_type": "code",
   "execution_count": null,
   "metadata": {},
   "outputs": [],
   "source": [
    "closeIdx = pd.Index([0, 1, 2, 3, 4, 5, 6, 7, 8, 9])\n",
    "t1 = pd.Series({\n",
    "    1: 4,  # Event starts at 1, ends at 4\n",
    "    2: 5,  # Event starts at 2, ends at 5\n",
    "    3: 6,  # Event starts at 3, ends at 6\n",
    "    4: 7,  # Event starts at 4, ends at 7\n",
    "    5: 8   # Event starts at 5, ends at 8\n",
    "})\n",
    "molecule = [2, 5]\n",
    "\n",
    "# Call the function\n",
    "result = mpNumCoEvents(closeIdx, t1, molecule)\n",
    "\n",
    "# Print the result\n",
    "print(\"Maximum number of concurrent events:\", result)"
   ]
  }
 ],
 "metadata": {
  "kernelspec": {
   "display_name": "CartesiusResolved",
   "language": "python",
   "name": "python3"
  },
  "language_info": {
   "codemirror_mode": {
    "name": "ipython",
    "version": 3
   },
   "file_extension": ".py",
   "mimetype": "text/x-python",
   "name": "python",
   "nbconvert_exporter": "python",
   "pygments_lexer": "ipython3",
   "version": "3.8.19"
  }
 },
 "nbformat": 4,
 "nbformat_minor": 2
}
