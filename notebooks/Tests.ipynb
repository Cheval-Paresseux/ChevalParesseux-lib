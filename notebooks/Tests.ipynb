{
 "cells": [
  {
   "cell_type": "code",
   "execution_count": null,
   "metadata": {},
   "outputs": [],
   "source": [
    "import sys\n",
    "sys.path.append(\"..\")\n",
    "import Data as dt\n",
    "import Temp_lib as lib\n",
    "\n",
    "import pandas as pd\n",
    "import numpy as np\n",
    "import matplotlib.pyplot as plt\n",
    "import seaborn as sns\n",
    "from tqdm import tqdm"
   ]
  },
  {
   "cell_type": "code",
   "execution_count": null,
   "metadata": {},
   "outputs": [],
   "source": [
    "data = dt.load_dataList(ticker_list=['A'])\n",
    "data = data['A'].loc['2012-01-01':'2015-01-01']\n",
    "plt.figure(figsize=(17, 4))\n",
    "plt.plot(data['close'])\n",
    "plt.show()"
   ]
  },
  {
   "cell_type": "code",
   "execution_count": null,
   "metadata": {},
   "outputs": [],
   "source": [
    "tripleBarrier_params = {\n",
    "    \"upper_barrier\": [0.8],\n",
    "    \"lower_barrier\": [1.5],\n",
    "    \"vertical_barrier\": [20],\n",
    "    \"window\": [20],\n",
    "    \"smoothing_method\": [None],\n",
    "    \"window_smooth\": [5],\n",
    "    \"lambda_smooth\": [0.2],\n",
    "}\n",
    "\n",
    "close_series = data['close']\n",
    "\n",
    "tripleBarrier_labeller = lib.tripleBarrier_labeller(data=close_series, params=tripleBarrier_params, n_jobs=1)\n",
    "labels_df = tripleBarrier_labeller.extract()\n",
    "data.loc[:, 'labels'] = labels_df['set_0']\n",
    "lib.plot_price_with_labels(price_series=close_series, label_series=data['labels'])"
   ]
  },
  {
   "cell_type": "code",
   "execution_count": null,
   "metadata": {},
   "outputs": [],
   "source": [
    "def mpNumCoEvents(closeIdx,t1,molecule):\n",
    "    \"\"\"\n",
    "    Compute the number of concurrent events per bar.\n",
    "    +molecule[0] is the date of the first event on which the weight will be computed\n",
    "    +molecule[-1] is the date of the last event on which the weight will be computed\n",
    "    Any event that starts before t1[molecule].max() impacts the count.\n",
    "    \"\"\"\n",
    "    #1) find events that span the period [molecule[0],molecule[-1]]\n",
    "    t1=t1.fillna(closeIdx[-1]) # unclosed events still must impact other weights\n",
    "    t1=t1[t1>=molecule[0]] # events that end at or after molecule[0]\n",
    "    t1=t1.loc[:t1[molecule].max()] # events that start at or before t1[molecule].max()\n",
    "    #2) count events spanning a bar\n",
    "    iloc=closeIdx.searchsorted(np.array([t1.index[0],t1.max()]))\n",
    "    count=pd.Series(0,index=closeIdx[iloc[0]:iloc[1]+1])\n",
    "    \n",
    "    for tIn,tOut in t1:\n",
    "        count.loc[tIn:tOut]+=1\n",
    "    \n",
    "    return count.loc[molecule[0]:t1[molecule]].max()"
   ]
  },
  {
   "cell_type": "code",
   "execution_count": null,
   "metadata": {},
   "outputs": [],
   "source": [
    "labels_series = data['labels'].copy()\n",
    "close_series = data['close'].copy()\n",
    "window = 20\n",
    "upper_barrier = 0.8\n",
    "vertical_barrier = 20\n",
    "#*________________________\n",
    "\n",
    "# Drop NaN values from labels_series\n",
    "labels = labels_series.dropna().copy()\n",
    "close = close_series.loc[labels.index].copy()\n",
    "vol = close_series.pct_change().rolling(window).std() * np.sqrt(window)\n",
    "vol.rename('vol', inplace=True)\n",
    "\n",
    "auxiliary = pd.concat([labels, close, vol], axis=1).dropna().reset_index()\n",
    "\n",
    "for idx, row in auxiliary.iterrows():\n",
    "    \n",
    "    if row['labels'] == 1:\n",
    "        current_close = row['close']\n",
    "        barrier = row['vol'] * upper_barrier\n",
    "        target_close = current_close * (1 + barrier)\n",
    "        \n",
    "        barrier_hit_idx = auxiliary[(auxiliary['close'] >= target_close) & (auxiliary.index > idx)].index.min()\n",
    "\n",
    "    elif row['labels'] == -1:\n",
    "        current_close = row['close']\n",
    "        barrier = row['vol'] * upper_barrier\n",
    "        target_close = current_close * (1 - barrier)\n",
    "        \n",
    "        barrier_hit_idx = auxiliary[(auxiliary['close'] <= target_close) & (auxiliary.index > idx)].index.min()\n",
    "    else:\n",
    "        barrier_hit_idx = vertical_barrier + idx\n",
    "\n",
    "    auxiliary.loc[idx, 'start_event'] = idx\n",
    "    auxiliary.loc[idx, 'end_event'] = barrier_hit_idx\n",
    "    \n",
    "auxiliary = auxiliary.drop(columns=['vol'])\n",
    "\n",
    "auxiliary[\"concurrent_events\"] = 0  # Initialize column\n",
    "\n",
    "def count_concurrent_events(row, df):\n",
    "    label = row['labels']\n",
    "    start_idx = row['start_event']\n",
    "    end_idx = row['end_event']\n",
    "    \n",
    "    mask_prev = (df['labels'] == label) & (df['start_event'] < start_idx) & (df['end_event'] > start_idx)\n",
    "    mask_next = (df['labels'] == label) & (df['start_event'] < end_idx) & (df['end_event'] > end_idx)\n",
    "    \n",
    "    nb_concurrents_events_prev = df[mask_prev].shape[0]\n",
    "    \n",
    "    return nb_concurrents_events_prev if nb_concurrents_events_prev > 0 else 0\n",
    "\n",
    "auxiliary['concurrent_events'] = auxiliary.apply(lambda row: count_concurrent_events(row, auxiliary), axis=1)"
   ]
  },
  {
   "cell_type": "code",
   "execution_count": null,
   "metadata": {},
   "outputs": [],
   "source": [
    "auxiliary"
   ]
  },
  {
   "cell_type": "code",
   "execution_count": null,
   "metadata": {},
   "outputs": [],
   "source": [
    "def label_uniqueness(labels_series: pd.Series, close_series: pd.Series):\n",
    "\n",
    "\n",
    "    "
   ]
  },
  {
   "cell_type": "code",
   "execution_count": null,
   "metadata": {},
   "outputs": [],
   "source": [
    "closeIdx = pd.Index([0, 1, 2, 3, 4, 5, 6, 7, 8, 9])\n",
    "t1 = pd.Series({\n",
    "    1: 4,  # Event starts at 1, ends at 4\n",
    "    2: 5,  # Event starts at 2, ends at 5\n",
    "    3: 6,  # Event starts at 3, ends at 6\n",
    "    4: 7,  # Event starts at 4, ends at 7\n",
    "    5: 8   # Event starts at 5, ends at 8\n",
    "})\n",
    "molecule = [2, 5]\n",
    "\n",
    "# Call the function\n",
    "result = mpNumCoEvents(closeIdx, t1, molecule)\n",
    "\n",
    "# Print the result\n",
    "print(\"Maximum number of concurrent events:\", result)"
   ]
  }
 ],
 "metadata": {
  "kernelspec": {
   "display_name": "CartesiusResolved",
   "language": "python",
   "name": "python3"
  },
  "language_info": {
   "codemirror_mode": {
    "name": "ipython",
    "version": 3
   },
   "file_extension": ".py",
   "mimetype": "text/x-python",
   "name": "python",
   "nbconvert_exporter": "python",
   "pygments_lexer": "ipython3",
   "version": "3.8.19"
  }
 },
 "nbformat": 4,
 "nbformat_minor": 2
}
