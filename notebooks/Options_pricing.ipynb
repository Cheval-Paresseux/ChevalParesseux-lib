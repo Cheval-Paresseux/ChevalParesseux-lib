{
 "cells": [
  {
   "cell_type": "code",
   "execution_count": null,
   "id": "412f9902",
   "metadata": {},
   "outputs": [],
   "source": [
    "import sys\n",
    "sys.path.append(\"..\")\n",
    "import Data as dt\n",
    "import ChevalParesseux_lib as lib\n",
    "\n",
    "import pandas as pd\n",
    "import numpy as np\n",
    "import matplotlib.pyplot as plt\n",
    "import seaborn as sns\n",
    "from tqdm import tqdm\n",
    "\n",
    "# Sets the number of jobs to use for parallel processing\n",
    "n_jobs = 5"
   ]
  },
  {
   "cell_type": "code",
   "execution_count": null,
   "id": "53e86b4f",
   "metadata": {},
   "outputs": [],
   "source": [
    "# I. Load data\n",
    "data = dt.load_data(ticker='SPY')\n",
    "data['code'] = 'SPY'"
   ]
  }
 ],
 "metadata": {
  "language_info": {
   "name": "python"
  }
 },
 "nbformat": 4,
 "nbformat_minor": 5
}
